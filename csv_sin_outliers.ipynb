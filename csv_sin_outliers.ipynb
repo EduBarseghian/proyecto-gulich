{
 "cells": [
  {
   "cell_type": "code",
   "execution_count": 7,
   "metadata": {},
   "outputs": [],
   "source": [
    "import pandas as pd\n",
    "import numpy as np\n",
    "from osgeo import gdal\n",
    "from gdalconst import *\n",
    "import matplotlib.pyplot as plt\n",
    "import seaborn as sns\n",
    "pd.set_option('display.max_rows', 20000)\n",
    "pd.set_option('display.max_columns', 20000)\n",
    "pd.set_option('display.max_colwidth', -1)\n",
    "import warnings\n",
    "warnings.filterwarnings(\"ignore\")"
   ]
  },
  {
   "cell_type": "code",
   "execution_count": 8,
   "metadata": {},
   "outputs": [],
   "source": [
    "#directoriosancor=\"/home/manuela/sancor-2.0/\" #MANU\n",
    "directoriosancor=\"/home/estefania/Desktop/sancor-2.0/\"   #EDU\n",
    "\n",
    "directoriopuntos=directoriosancor+\"1CSV/Agua/\"\n",
    "directoriocsvs=directoriosancor+\"1CSV/\""
   ]
  },
  {
   "cell_type": "code",
   "execution_count": 9,
   "metadata": {},
   "outputs": [],
   "source": [
    "# VERA JUAN PABLO (correr solamente 1 de las 3 celdas)\n",
    "df_puntos_agua = pd.read_csv(directoriopuntos+\"AguaVera21022019_trans.csv\")\n",
    "directoriolectura=directoriocsvs+\"Vera_csvs/\"\n",
    "directoriosalida=directoriocsvs+\"Vera_so_csvs/\"\n",
    "rangodefilas=range(54)          #estas son las filas cuyos csv queremos crear\n",
    "prefijonombres=\"Vera_\""
   ]
  },
  {
   "cell_type": "code",
   "execution_count": null,
   "metadata": {},
   "outputs": [],
   "source": [
    "# NICOLAS FILTRADO(correr solamente 1 de las 3 celdas)\n",
    "df_puntos_agua = pd.read_csv(directoriopuntos+\"aguanopermanente_filtrada.csv\")\n",
    "directoriolectura=directoriocsvs+\"nico_agua_no_permanente_csvs/\"\n",
    "directoriosalida=directoriocsvs+\"nico_aguanoper_so_csvs\"\n",
    "rangodefilas=range(29)          #estas son las filas cuyos csv queremos crear\n",
    "prefijonombres=\"aguanoperm_\""
   ]
  },
  {
   "cell_type": "code",
   "execution_count": null,
   "metadata": {},
   "outputs": [],
   "source": [
    "# DIEGO (correr solamente 1 de las 3 celdas)\n",
    "df_puntos_agua = pd.read_csv(directoriopuntos+\"agua_2016_diego_100.csv\")\n",
    "directoriolectura=directoriocsvs+\"diego_csvs/\"\n",
    "directoriosalida=directoriocsvs+\"diego_so_csvs/\"\n",
    "rangodefilas=range(100)          #estas son las filas cuyos csv queremos crear\n",
    "prefijonombres=\"diego_\""
   ]
  },
  {
   "cell_type": "code",
   "execution_count": 10,
   "metadata": {},
   "outputs": [],
   "source": [
    "tol = 0.25"
   ]
  },
  {
   "cell_type": "code",
   "execution_count": 11,
   "metadata": {},
   "outputs": [],
   "source": [
    "listadefechas = []\n",
    "anios=range(2010,2020)\n",
    "fechasporanio=range(1,365,8)\n",
    "for yy in anios:\n",
    "    for d in fechasporanio:\n",
    "        listadefechas.append(str(yy)+\"%03d\"%d)"
   ]
  },
  {
   "cell_type": "code",
   "execution_count": 12,
   "metadata": {},
   "outputs": [],
   "source": [
    "for e in rangodefilas:\n",
    "    for k in range(3):\n",
    "        df_mndwi = pd.read_csv(directoriolectura+prefijonombres+ str(e).zfill(3)+\"_mndwi_\"+str(2*k+1)+\"x\"+str(2*k+1) +  \".csv\")\n",
    "        df_ndwi = pd.read_csv(directoriolectura+prefijonombres+ str(e).zfill(3)+\"_ndwi_\"+str(2*k+1)+\"x\"+str(2*k+1) + \".csv\")\n",
    "        \n",
    "        for i in range(1,len(df_mndwi.promedio) - 1):\n",
    "            if abs(df_mndwi.promedio.iloc[i] - df_mndwi.promedio.iloc[i-1]) > tol and abs(df_mndwi.promedio.iloc[i] - df_mndwi.promedio.iloc[i+1]) > tol and (df_mndwi.promedio.iloc[i] - df_mndwi.promedio.iloc[i-1])*(df_mndwi.promedio.iloc[i] - df_mndwi.promedio.iloc[i+1]) > 0:\n",
    "                df_mndwi.promedio.iloc[i] = (df_mndwi.promedio.iloc[i-1] + df_mndwi.promedio.iloc[i+1])/2\n",
    "            \n",
    "        nombresalida=prefijonombres+\"so_\"+ str(e).zfill(3)+\"_mndwi_\"+str(2*k+1)+\"x\"+str(2*k+1) \n",
    "        pd.DataFrame(df_mndwi).to_csv(directoriosalida+nombresalida + \".csv\")    \n",
    "            \n",
    "                \n",
    "        for j in range(1,len(df_ndwi.promedio) - 1):\n",
    "            if abs(df_ndwi.promedio.iloc[j] - df_ndwi.promedio.iloc[j-1]) > tol and abs(df_ndwi.promedio.iloc[j] - df_ndwi.promedio.iloc[j+1]) > tol and (df_ndwi.promedio.iloc[j] - df_ndwi.promedio.iloc[j-1])*(df_ndwi.promedio.iloc[j] - df_ndwi.promedio.iloc[j+1]) > 0:\n",
    "                df_ndwi.promedio.iloc[j] = (df_ndwi.promedio.iloc[j-1] + df_ndwi.promedio.iloc[j+1])/2\n",
    "                \n",
    "        nombresalida=prefijonombres+\"so_\"+ str(e).zfill(3)+\"_ndwi_\"+str(2*k+1)+\"x\"+str(2*k+1) \n",
    "        pd.DataFrame(df_ndwi).to_csv(directoriosalida+nombresalida + \".csv\")"
   ]
  },
  {
   "cell_type": "code",
   "execution_count": null,
   "metadata": {},
   "outputs": [],
   "source": []
  }
 ],
 "metadata": {
  "kernelspec": {
   "display_name": "Python 3",
   "language": "python",
   "name": "python3"
  },
  "language_info": {
   "codemirror_mode": {
    "name": "ipython",
    "version": 3
   },
   "file_extension": ".py",
   "mimetype": "text/x-python",
   "name": "python",
   "nbconvert_exporter": "python",
   "pygments_lexer": "ipython3",
   "version": "3.6.9"
  }
 },
 "nbformat": 4,
 "nbformat_minor": 4
}
