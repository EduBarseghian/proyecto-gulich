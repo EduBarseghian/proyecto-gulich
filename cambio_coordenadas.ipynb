{
 "cells": [
  {
   "cell_type": "code",
   "execution_count": 1,
   "metadata": {},
   "outputs": [],
   "source": [
    "import pandas as pd\n",
    "import numpy as np\n",
    "import matplotlib.pyplot as plt\n",
    "from gdal import *\n",
    "from osgeo import *\n",
    "import csv"
   ]
  },
  {
   "cell_type": "code",
   "execution_count": 2,
   "metadata": {},
   "outputs": [],
   "source": [
    "agua = pd.read_csv(\"/home/manuela/sancor/CSV/diego_nuevo.csv\")"
   ]
  },
  {
   "cell_type": "code",
   "execution_count": 3,
   "metadata": {},
   "outputs": [
    {
     "data": {
      "text/html": [
       "<div>\n",
       "<style scoped>\n",
       "    .dataframe tbody tr th:only-of-type {\n",
       "        vertical-align: middle;\n",
       "    }\n",
       "\n",
       "    .dataframe tbody tr th {\n",
       "        vertical-align: top;\n",
       "    }\n",
       "\n",
       "    .dataframe thead th {\n",
       "        text-align: right;\n",
       "    }\n",
       "</style>\n",
       "<table border=\"1\" class=\"dataframe\">\n",
       "  <thead>\n",
       "    <tr style=\"text-align: right;\">\n",
       "      <th></th>\n",
       "      <th>Latitud</th>\n",
       "      <th>Longitud</th>\n",
       "      <th>id</th>\n",
       "    </tr>\n",
       "  </thead>\n",
       "  <tbody>\n",
       "    <tr>\n",
       "      <th>0</th>\n",
       "      <td>536985</td>\n",
       "      <td>-3632385</td>\n",
       "      <td>0</td>\n",
       "    </tr>\n",
       "    <tr>\n",
       "      <th>1</th>\n",
       "      <td>537085</td>\n",
       "      <td>-3632385</td>\n",
       "      <td>1</td>\n",
       "    </tr>\n",
       "    <tr>\n",
       "      <th>2</th>\n",
       "      <td>541785</td>\n",
       "      <td>-3632885</td>\n",
       "      <td>2</td>\n",
       "    </tr>\n",
       "    <tr>\n",
       "      <th>3</th>\n",
       "      <td>541885</td>\n",
       "      <td>-3632885</td>\n",
       "      <td>3</td>\n",
       "    </tr>\n",
       "    <tr>\n",
       "      <th>4</th>\n",
       "      <td>541785</td>\n",
       "      <td>-3632985</td>\n",
       "      <td>4</td>\n",
       "    </tr>\n",
       "  </tbody>\n",
       "</table>\n",
       "</div>"
      ],
      "text/plain": [
       "   Latitud  Longitud  id\n",
       "0   536985  -3632385   0\n",
       "1   537085  -3632385   1\n",
       "2   541785  -3632885   2\n",
       "3   541885  -3632885   3\n",
       "4   541785  -3632985   4"
      ]
     },
     "execution_count": 3,
     "metadata": {},
     "output_type": "execute_result"
    }
   ],
   "source": [
    "agua.head()"
   ]
  },
  {
   "cell_type": "code",
   "execution_count": 4,
   "metadata": {},
   "outputs": [],
   "source": [
    "SourceEPSG = 32620  \n",
    "TargetEPSG = 4326\n",
    "\n",
    "source = osr.SpatialReference()\n",
    "source.ImportFromEPSG(SourceEPSG)\n",
    "\n",
    "target = osr.SpatialReference()\n",
    "target.ImportFromEPSG(TargetEPSG)\n",
    "\n",
    "Lat_trans = []\n",
    "Long_trans = []\n",
    "\n",
    "def CRSTransform(Lat, Long):\n",
    "    transform = osr.CoordinateTransformation(source, target)\n",
    "    point = ogr.Geometry(ogr.wkbPoint)\n",
    "    point.SetPoint_2D(0, float(Lat), float(Long))\n",
    "    point.Transform(transform)\n",
    "    #print (point.GetX(), \"   \", point.GetY())\n",
    "    Long_trans.append(point.GetX())\n",
    "    Lat_trans.append(point.GetY())"
   ]
  },
  {
   "cell_type": "code",
   "execution_count": 5,
   "metadata": {},
   "outputs": [],
   "source": [
    "#print (\"Reading CSV\")\n",
    "inCSV = csv.DictReader(open(\"/home/manuela/sancor/CSV/diego_nuevo.csv\"))\n",
    "\n",
    "for row in inCSV:\n",
    "    lat = row['Latitud']\n",
    "    long = row['Longitud']\n",
    "    CRSTransform(lat, long)\n",
    "    "
   ]
  },
  {
   "cell_type": "code",
   "execution_count": 6,
   "metadata": {},
   "outputs": [],
   "source": [
    "agua['Latitud'] = Long_trans\n",
    "agua['Longitud'] = Lat_trans"
   ]
  },
  {
   "cell_type": "code",
   "execution_count": 7,
   "metadata": {},
   "outputs": [],
   "source": [
    "pd.DataFrame(agua).to_csv(\"/home/manuela/sancor/CSV/diego_nuevo.csv\")"
   ]
  },
  {
   "cell_type": "code",
   "execution_count": null,
   "metadata": {},
   "outputs": [],
   "source": []
  }
 ],
 "metadata": {
  "kernelspec": {
   "display_name": "Python 3",
   "language": "python",
   "name": "python3"
  },
  "language_info": {
   "codemirror_mode": {
    "name": "ipython",
    "version": 3
   },
   "file_extension": ".py",
   "mimetype": "text/x-python",
   "name": "python",
   "nbconvert_exporter": "python",
   "pygments_lexer": "ipython3",
   "version": "3.8.5"
  }
 },
 "nbformat": 4,
 "nbformat_minor": 4
}
