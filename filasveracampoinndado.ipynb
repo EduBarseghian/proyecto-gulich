{
 "cells": [
  {
   "cell_type": "code",
   "execution_count": 3,
   "metadata": {},
   "outputs": [],
   "source": [
    "import pandas as pd\n",
    "#directoriosancor=\"/home/manuela/sancor-2.0/\" #MANU\n",
    "directoriosancor=\"/home/estefania/Desktop/sancor-2.0/\"   #EDU\n",
    "\n",
    "#directoriotifs=\"home/manuela/sancor/imagenes/\"   #MANU\n",
    "directoriotifs=\"/home/estefania/Desktop/\" #EDU\n",
    "\n",
    "directoriopuntos=directoriosancor+\"1CSV/Agua/\"\n",
    "directoriocsvs=directoriosancor+\"1CSV/\""
   ]
  },
  {
   "cell_type": "code",
   "execution_count": 9,
   "metadata": {},
   "outputs": [
    {
     "name": "stdout",
     "output_type": "stream",
     "text": [
      "Punto\tLong\t\t\tLat\n",
      "16\t-60.67338552879241\t-29.10669514225293\n",
      "17\t-60.63897810426793\t-29.111786658726142\n",
      "18\t-60.630773885028226\t-29.136691545759447\n",
      "34\t-60.696971242676035\t-29.18459365785659\n",
      "35\t-60.65065235938208\t-29.179803348588106\n",
      "36\t-60.65300760730514\t-29.16801563676891\n",
      "37\t-60.657926899139845\t-29.15462803014836\n",
      "38\t-60.640661379566964\t-29.137498632086164\n",
      "39\t-60.61570539005498\t-29.1123867785438\n",
      "40\t-60.609796924955205\t-29.121769975451212\n",
      "41\t-60.597562088021114\t-29.093402238189444\n",
      "42\t-60.58392720771371\t-29.075572092334657\n",
      "44\t-60.55178327327934\t-29.073850651877034\n"
     ]
    }
   ],
   "source": [
    "df = pd.read_csv(directoriopuntos+\"AguaVera21022019_trans.csv\")\n",
    "rangodefilas=[16,17,18,34,35,36,37,38,39,40,41,42,44]\n",
    "print(\"Punto\\tLong\\t\\t\\tLat\")\n",
    "for e in rangodefilas:\n",
    "    print(str(e)+\"\\t\"+str(df.Long_trans[e])+\"\\t\"+str(df.Lat_trans[e]))"
   ]
  },
  {
   "cell_type": "code",
   "execution_count": 12,
   "metadata": {},
   "outputs": [
    {
     "data": {
      "text/plain": [
       "16   -60.673386\n",
       "17   -60.638978\n",
       "18   -60.630774\n",
       "34   -60.696971\n",
       "35   -60.650652\n",
       "36   -60.653008\n",
       "37   -60.657927\n",
       "38   -60.640661\n",
       "39   -60.615705\n",
       "40   -60.609797\n",
       "41   -60.597562\n",
       "42   -60.583927\n",
       "44   -60.551783\n",
       "Name: Long_trans, dtype: float64"
      ]
     },
     "execution_count": 12,
     "metadata": {},
     "output_type": "execute_result"
    }
   ],
   "source": [
    "df.iloc[rangodefilas][\"Long_trans\"]"
   ]
  },
  {
   "cell_type": "code",
   "execution_count": null,
   "metadata": {},
   "outputs": [],
   "source": []
  }
 ],
 "metadata": {
  "kernelspec": {
   "display_name": "Python 3",
   "language": "python",
   "name": "python3"
  },
  "language_info": {
   "codemirror_mode": {
    "name": "ipython",
    "version": 3
   },
   "file_extension": ".py",
   "mimetype": "text/x-python",
   "name": "python",
   "nbconvert_exporter": "python",
   "pygments_lexer": "ipython3",
   "version": "3.6.9"
  }
 },
 "nbformat": 4,
 "nbformat_minor": 2
}
