{
 "cells": [
  {
   "cell_type": "code",
   "execution_count": 1,
   "metadata": {},
   "outputs": [
    {
     "name": "stderr",
     "output_type": "stream",
     "text": [
      "In /home/estefania/.local/lib/python3.6/site-packages/matplotlib/mpl-data/stylelib/_classic_test.mplstyle: \n",
      "The text.latex.preview rcparam was deprecated in Matplotlib 3.3 and will be removed two minor releases later.\n",
      "In /home/estefania/.local/lib/python3.6/site-packages/matplotlib/mpl-data/stylelib/_classic_test.mplstyle: \n",
      "The mathtext.fallback_to_cm rcparam was deprecated in Matplotlib 3.3 and will be removed two minor releases later.\n",
      "In /home/estefania/.local/lib/python3.6/site-packages/matplotlib/mpl-data/stylelib/_classic_test.mplstyle: Support for setting the 'mathtext.fallback_to_cm' rcParam is deprecated since 3.3 and will be removed two minor releases later; use 'mathtext.fallback : 'cm' instead.\n",
      "In /home/estefania/.local/lib/python3.6/site-packages/matplotlib/mpl-data/stylelib/_classic_test.mplstyle: \n",
      "The validate_bool_maybe_none function was deprecated in Matplotlib 3.3 and will be removed two minor releases later.\n",
      "In /home/estefania/.local/lib/python3.6/site-packages/matplotlib/mpl-data/stylelib/_classic_test.mplstyle: \n",
      "The savefig.jpeg_quality rcparam was deprecated in Matplotlib 3.3 and will be removed two minor releases later.\n",
      "In /home/estefania/.local/lib/python3.6/site-packages/matplotlib/mpl-data/stylelib/_classic_test.mplstyle: \n",
      "The keymap.all_axes rcparam was deprecated in Matplotlib 3.3 and will be removed two minor releases later.\n",
      "In /home/estefania/.local/lib/python3.6/site-packages/matplotlib/mpl-data/stylelib/_classic_test.mplstyle: \n",
      "The animation.avconv_path rcparam was deprecated in Matplotlib 3.3 and will be removed two minor releases later.\n",
      "In /home/estefania/.local/lib/python3.6/site-packages/matplotlib/mpl-data/stylelib/_classic_test.mplstyle: \n",
      "The animation.avconv_args rcparam was deprecated in Matplotlib 3.3 and will be removed two minor releases later.\n",
      "/home/estefania/.local/lib/python3.6/site-packages/statsmodels/tools/_testing.py:19: FutureWarning: pandas.util.testing is deprecated. Use the functions in the public API at pandas.testing instead.\n",
      "  import pandas.util.testing as tm\n",
      "/home/estefania/.local/lib/python3.6/site-packages/ipykernel_launcher.py:9: FutureWarning: Passing a negative integer is deprecated in version 1.0 and will not be supported in future version. Instead, use None to not limit the column width.\n",
      "  if __name__ == '__main__':\n"
     ]
    }
   ],
   "source": [
    "import pandas as pd\n",
    "import numpy as np\n",
    "from osgeo import gdal\n",
    "from gdalconst import *\n",
    "import matplotlib.pyplot as plt\n",
    "import seaborn as sns\n",
    "pd.set_option('display.max_rows', 20000)\n",
    "pd.set_option('display.max_columns', 20000)\n",
    "pd.set_option('display.max_colwidth', -1)\n",
    "import warnings\n",
    "warnings.filterwarnings(\"ignore\")"
   ]
  },
  {
   "cell_type": "code",
   "execution_count": 3,
   "metadata": {},
   "outputs": [],
   "source": [
    "#directoriosancor=\"/home/manuela/sancor-2.0/\" #MANU\n",
    "directoriosancor=\"/home/estefania/Desktop/sancor-2.0/\"   #EDU\n",
    "\n",
    "directoriopuntos=directoriosancor+\"1CSV/Agua/\"\n",
    "directoriocsvs=directoriosancor+\"1CSV/\""
   ]
  },
  {
   "cell_type": "code",
   "execution_count": 4,
   "metadata": {},
   "outputs": [],
   "source": [
    "# VERA JUAN PABLO (correr solamente 1 de las 3 celdas)\n",
    "df_puntos_agua = pd.read_csv(directoriopuntos+\"AguaVera21022019_trans.csv\")\n",
    "directoriolectura=directoriocsvs+\"Vera_csvs/\"\n",
    "prefijolectura=\"Vera_\"\n",
    "rangodefilas=range(54)          #estas son las filas cuyos csv queremos crear\n",
    "\n",
    "totaldefilas=54        #cantidaddefilas de df_puntos_agua\n",
    "longitoo=[]\n",
    "latitoo=[]  \n",
    "for r in range(totaldefilas):\n",
    "    longitoo.append(df_puntos_agua.Long_trans[r])\n",
    "    latitoo.append(df_puntos_agua.Lat_trans[r])"
   ]
  },
  {
   "cell_type": "code",
   "execution_count": 4,
   "metadata": {},
   "outputs": [],
   "source": [
    "# NICOLÁS AGUA NO PERMANENTE\n",
    "df_puntos_agua = pd.read_csv(directoriopuntos+\"aguanopermanente_filtrada.csv\")\n",
    "directoriolectura=directoriocsvs+\"nico_agua_no_permanente_csvs/\"\n",
    "prefijolectura=\"aguanoperm_\"\n",
    "\n",
    "rangodefilas=range(29)          #estas son las filas cuyos csv queremos crear\n",
    "\n",
    "totaldefilas=29\n",
    "longitoo=[]\n",
    "latitoo=[]\n",
    "for r in range(totaldefilas):\n",
    "    longitoo.append(float(df_puntos_agua.Longitud[r].replace(\",\",\".\")))\n",
    "    latitoo.append(float(df_puntos_agua.Latitud[r].replace(\",\",\".\")))"
   ]
  },
  {
   "cell_type": "code",
   "execution_count": null,
   "metadata": {},
   "outputs": [],
   "source": [
    "# DIEGO (correr solamente 1 de las 3 celdas)\n",
    "df_puntos_agua = pd.read_csv(directoriopuntos+\"agua_2016_diego_100.csv\")\n",
    "directoriolectura=directoriocsvs+\"diego_csvs/\"\n",
    "prefijolectura=\"diego_\"\n",
    "rangodefilas=range(100)          #estas son las filas cuyos csv queremos crear\n",
    "\n",
    "totaldefilas=100        #cantidaddefilas de df_puntos_agua\n",
    "longitoo=[]\n",
    "latitoo=[]\n",
    "for r in range(totaldefilas):\n",
    "    longitoo.append(float(df_puntos_agua.Long_trans[r].replace(\",\",\".\")))\n",
    "    latitoo.append(float(df_puntos_agua.Lat_trans[r].replace(\",\",\".\")))"
   ]
  },
  {
   "cell_type": "code",
   "execution_count": 5,
   "metadata": {},
   "outputs": [],
   "source": [
    "listadefechas = []\n",
    "anios=range(2010,2020)\n",
    "fechasporanio=range(1,365,8)\n",
    "for yy in anios:\n",
    "    for d in fechasporanio:\n",
    "        listadefechas.append(str(yy)+\"%03d\"%d)"
   ]
  },
  {
   "cell_type": "code",
   "execution_count": 11,
   "metadata": {},
   "outputs": [],
   "source": [
    "contador_mndwi=[]\n",
    "for i in range(len(listadefechas)):\n",
    "    contador_mndwi.append([])\n",
    "    for j in rangodefilas:\n",
    "        contador_mndwi[i].append(0)"
   ]
  },
  {
   "cell_type": "code",
   "execution_count": 12,
   "metadata": {},
   "outputs": [],
   "source": [
    "contador_ndwi=[]\n",
    "for i in range(len(listadefechas)):\n",
    "    contador_ndwi.append([])\n",
    "    for j in rangodefilas:\n",
    "        contador_ndwi[i].append(0)"
   ]
  },
  {
   "cell_type": "code",
   "execution_count": 8,
   "metadata": {},
   "outputs": [],
   "source": [
    "tol = 0.25"
   ]
  },
  {
   "cell_type": "code",
   "execution_count": 13,
   "metadata": {},
   "outputs": [],
   "source": [
    "for e in rangodefilas:\n",
    "    long=longitoo[e]\n",
    "    lat=latitoo[e]\n",
    "    for k in range(1):\n",
    "        datos=pd.read_csv(directoriolectura+prefijolectura+ str(e).zfill(3)+\"_mndwi_\"+str(2*k+1)+\"x\"+str(2*k+1) +\".csv\")\n",
    "        for i in range(1,len(datos.promedio) - 1):\n",
    "            if abs(datos.promedio.iloc[i] - datos.promedio.iloc[i-1]) > tol and abs(datos.promedio.iloc[i] - datos.promedio.iloc[i+1]) > tol and (datos.promedio.iloc[i] - datos.promedio.iloc[i-1])*(datos.promedio.iloc[i] - datos.promedio.iloc[i+1]) > 0:\n",
    "                #datos.promedio.iloc[i] = (datos.promedio.iloc[i-1] + datos.promedio.iloc[i+1])/2\n",
    "                contador_mndwi[i][e] += 1     \n",
    "                \n",
    "        datos=pd.read_csv(directoriolectura+prefijolectura+ str(e).zfill(3)+\"_ndwi_\"+str(2*k+1)+\"x\"+str(2*k+1) +\".csv\")\n",
    "        for i in range(1,len(datos.promedio) - 1):\n",
    "            if abs(datos.promedio.iloc[i] - datos.promedio.iloc[i-1]) > tol and abs(datos.promedio.iloc[i] - datos.promedio.iloc[i+1]) > tol and (datos.promedio.iloc[i] - datos.promedio.iloc[i-1])*(datos.promedio.iloc[i] - datos.promedio.iloc[i+1]) > 0:\n",
    "                #datos.promedio.iloc[i] = (datos.promedio.iloc[i-1] + datos.promedio.iloc[i+1])/2\n",
    "                contador_ndwi[i][e] += 1     \n",
    "                "
   ]
  },
  {
   "cell_type": "markdown",
   "metadata": {},
   "source": [
    "PUNTOS CON MÁS OUTLIERS"
   ]
  },
  {
   "cell_type": "code",
   "execution_count": 15,
   "metadata": {},
   "outputs": [
    {
     "name": "stdout",
     "output_type": "stream",
     "text": [
      "Outliers \ttol=0.25\tVera_\n",
      " \n",
      "Punto\tmndwi\tndwi\n",
      "5\t22\t23\n",
      "8\t24\t11\n",
      "10\t43\t35\n",
      "12\t18\t23\n",
      "15\t24\t12\n",
      "20\t8\t25\n",
      "21\t62\t59\n",
      "23\t41\t44\n",
      "24\t19\t40\n",
      "25\t22\t21\n",
      "29\t13\t46\n",
      "30\t59\t36\n",
      "49\t47\t50\n",
      "50\t66\t92\n",
      "51\t75\t64\n"
     ]
    }
   ],
   "source": [
    "print(\"Outliers \\ttol=\"+str(tol)+\"\\t\"+prefijolectura)\n",
    "print(\" \")\n",
    "print(\"Punto\\tmndwi\\tndwi\")\n",
    "outliers=[]\n",
    "for e in rangodefilas:\n",
    "    sume_mndwi=0\n",
    "    sume_ndwi=0\n",
    "    for i in range(len(listadefechas)):\n",
    "        sume_mndwi += contador_mndwi[i][e]\n",
    "        sume_ndwi  += contador_ndwi[i][e]        \n",
    "    outliers.append([sume_mndwi,sume_ndwi])\n",
    "    if 20<max(outliers[e]):\n",
    "        print(str(e)+\"\\t\"+str(outliers[e][0])+\"\\t\"+str(outliers[e][1]))"
   ]
  },
  {
   "cell_type": "code",
   "execution_count": 18,
   "metadata": {},
   "outputs": [
    {
     "name": "stdout",
     "output_type": "stream",
     "text": [
      "OUTLIERS POR PUNTO\n",
      "Punto\tmndwi\tndwi\n",
      "0\t10\t11\n",
      "1\t11\t9\n",
      "2\t7\t6\n",
      "3\t11\t8\n",
      "4\t7\t8\n",
      "5\t22\t23\n",
      "6\t10\t8\n",
      "7\t9\t6\n",
      "8\t24\t11\n",
      "9\t9\t7\n",
      "10\t43\t35\n",
      "11\t8\t10\n",
      "12\t18\t23\n",
      "13\t8\t8\n",
      "14\t9\t11\n",
      "15\t24\t12\n",
      "16\t13\t9\n",
      "17\t8\t10\n",
      "18\t11\t9\n",
      "19\t9\t11\n",
      "20\t8\t25\n",
      "21\t62\t59\n",
      "22\t12\t14\n",
      "23\t41\t44\n",
      "24\t19\t40\n",
      "25\t22\t21\n",
      "26\t9\t7\n",
      "27\t13\t10\n",
      "28\t17\t12\n",
      "29\t13\t46\n",
      "30\t59\t36\n",
      "31\t7\t7\n",
      "32\t7\t7\n",
      "33\t8\t6\n",
      "34\t8\t7\n",
      "35\t8\t7\n",
      "36\t9\t10\n",
      "37\t11\t10\n",
      "38\t10\t8\n",
      "39\t7\t6\n",
      "40\t9\t6\n",
      "41\t10\t8\n",
      "42\t10\t10\n",
      "43\t8\t7\n",
      "44\t11\t12\n",
      "45\t9\t7\n",
      "46\t16\t18\n",
      "47\t10\t10\n",
      "48\t15\t12\n",
      "49\t47\t50\n",
      "50\t66\t92\n",
      "51\t75\t64\n",
      "52\t9\t6\n",
      "53\t12\t10\n"
     ]
    }
   ],
   "source": [
    "print(\"OUTLIERS POR PUNTO\")\n",
    "print(\"Punto\\tmndwi\\tndwi\")\n",
    "for e in rangodefilas:\n",
    "    print(str(e)+\"\\t\"+str(outliers[e][0])+\"\\t\"+str(outliers[e][1]))"
   ]
  },
  {
   "cell_type": "code",
   "execution_count": 16,
   "metadata": {},
   "outputs": [
    {
     "name": "stdout",
     "output_type": "stream",
     "text": [
      "[11]\n"
     ]
    }
   ],
   "source": [
    "# Identificador, dada una fecha, nos devuelve los 0 ó 1.\n",
    "respu=[]\n",
    "for e in rangodefilas:\n",
    "    if contador_mndwi[listadefechas.index(\"2017041\")][e]==1:\n",
    "        respu.append(e)\n",
    "respu.sort()\n",
    "print(respu)"
   ]
  },
  {
   "cell_type": "code",
   "execution_count": 19,
   "metadata": {},
   "outputs": [
    {
     "name": "stdout",
     "output_type": "stream",
     "text": [
      "Estas son las fechas con más de 10 outliers.\n",
      "Outliers \ttol=0.25\tVera_\n",
      " \n",
      "Fecha\t\t#mndwi\t\t#ndwi\n",
      "2010137\t\t25\t\t22\n",
      "2010185\t\t12\t\t14\n",
      "2011049\t\t8\t\t15\n",
      "2011105\t\t42\t\t43\n",
      "2013185\t\t23\t\t19\n",
      "2014137\t\t37\t\t36\n",
      "2015329\t\t11\t\t8\n",
      "2016049\t\t41\t\t39\n",
      "2017249\t\t23\t\t20\n",
      "2018265\t\t54\t\t1\n",
      "2019105\t\t54\t\t1\n",
      "2019161\t\t45\t\t44\n"
     ]
    }
   ],
   "source": [
    "print(\"Estas son las fechas con más de 10 outliers.\")\n",
    "# Revisando los gráficos, la mayoría tenía nubes sobre Vera.\n",
    "print(\"Outliers \\ttol=\"+str(tol)+\"\\t\"+prefijolectura)\n",
    "print(\" \")\n",
    "print(\"Fecha\\t\\t#mndwi\\t\\t#ndwi\")\n",
    "for i in range(len(listadefechas)):\n",
    "    if 10<max(sum(contador_mndwi[i]),sum(contador_ndwi[i])):\n",
    "        print(str(listadefechas[i])+\"\\t\\t\"+str(sum(contador_mndwi[i]))+\"\\t\\t\"+str(sum(contador_ndwi[i])))"
   ]
  },
  {
   "cell_type": "code",
   "execution_count": null,
   "metadata": {},
   "outputs": [],
   "source": []
  }
 ],
 "metadata": {
  "kernelspec": {
   "display_name": "Python 3",
   "language": "python",
   "name": "python3"
  },
  "language_info": {
   "codemirror_mode": {
    "name": "ipython",
    "version": 3
   },
   "file_extension": ".py",
   "mimetype": "text/x-python",
   "name": "python",
   "nbconvert_exporter": "python",
   "pygments_lexer": "ipython3",
   "version": "3.6.9"
  }
 },
 "nbformat": 4,
 "nbformat_minor": 4
}
