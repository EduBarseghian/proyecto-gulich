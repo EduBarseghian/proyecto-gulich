{
 "cells": [
  {
   "cell_type": "code",
   "execution_count": 41,
   "metadata": {},
   "outputs": [],
   "source": [
    "import numpy as np\n",
    "import sklearn\n",
    "from sklearn import datasets\n",
    "from sklearn.mixture import GaussianMixture\n",
    "from math import sqrt\n",
    "import pandas as pd\n",
    "from IPython.core.interactiveshell import InteractiveShell\n",
    "InteractiveShell.ast_node_interactivity = 'all'\n",
    "pd.set_option('display.max_rows', 20000)\n",
    "pd.set_option('display.max_columns', 20000)\n",
    "pd.set_option('display.max_colwidth', -1)\n",
    "from osgeo import gdal\n",
    "from gdalconst import *\n",
    "import matplotlib.pyplot as plt\n",
    "import seaborn as sns\n",
    "import warnings\n",
    "warnings.filterwarnings(\"ignore\")\n",
    "import plotnine as p9"
   ]
  },
  {
   "cell_type": "code",
   "execution_count": 2,
   "metadata": {},
   "outputs": [
    {
     "data": {
      "text/plain": [
       "GaussianMixture(n_components=2)"
      ]
     },
     "execution_count": 2,
     "metadata": {},
     "output_type": "execute_result"
    },
    {
     "name": "stdout",
     "output_type": "stream",
     "text": [
      "[[7.57338132]\n",
      " [1.76215472]]\n",
      "3.0840577915488887 3.2143494563639874\n"
     ]
    }
   ],
   "source": [
    "X,Y,Z = datasets.make_blobs(cluster_std=3,random_state=20,n_samples=500,centers=2, n_features = 1, return_centers = True)\n",
    "#X = np.dot(X, np.random.RandomState(0).randn(2,2))\n",
    "\n",
    "#X = 16*np.random.randn(500,1)+3\n",
    " \n",
    "GMM = GaussianMixture(n_components=2)\n",
    "GMM.fit(X)\n",
    "#Y = np.random.randint(-10, 20, size=(1, 2))\n",
    "#print(GMM.means_, GMM.predict_proba(Y))\n",
    "print(GMM.means_)\n",
    "print(sqrt(GMM.covariances_[0]),sqrt(GMM.covariances_[1]))\n",
    "#print (Z)"
   ]
  },
  {
   "cell_type": "code",
   "execution_count": 3,
   "metadata": {},
   "outputs": [
    {
     "data": {
      "text/plain": [
       "(500, 1)"
      ]
     },
     "execution_count": 3,
     "metadata": {},
     "output_type": "execute_result"
    }
   ],
   "source": [
    "X.shape"
   ]
  },
  {
   "cell_type": "code",
   "execution_count": 4,
   "metadata": {},
   "outputs": [
    {
     "data": {
      "text/plain": [
       "(500,)"
      ]
     },
     "execution_count": 4,
     "metadata": {},
     "output_type": "execute_result"
    }
   ],
   "source": [
    "np.random.randn(500).shape"
   ]
  },
  {
   "cell_type": "code",
   "execution_count": 5,
   "metadata": {},
   "outputs": [
    {
     "data": {
      "text/plain": [
       "GaussianMixture(n_components=2)"
      ]
     },
     "execution_count": 5,
     "metadata": {},
     "output_type": "execute_result"
    },
    {
     "name": "stdout",
     "output_type": "stream",
     "text": [
      "[[7.57338132]\n",
      " [1.76215472]]\n",
      "3.0840577915488887 3.2143494563639874\n"
     ]
    }
   ],
   "source": [
    "X,Y,Z = sklearn.datasets.make_blobs(cluster_std=3,random_state=20,n_samples=500,centers=2, n_features = 1, return_centers = True)\n",
    " \n",
    "GMM = GaussianMixture(n_components=2)\n",
    "GMM.fit(X)\n",
    "\n",
    "print(GMM.means_)\n",
    "print(sqrt(GMM.covariances_[0]),sqrt(GMM.covariances_[1]))\n"
   ]
  },
  {
   "cell_type": "markdown",
   "metadata": {},
   "source": [
    "# HISTOGRAMA DE LOS QUE SACAMOS NOSOTROS CON VERA"
   ]
  },
  {
   "cell_type": "code",
   "execution_count": 6,
   "metadata": {},
   "outputs": [],
   "source": [
    "df = pd.read_csv(\"/home/manuela/Escritorio/inundaciones.csv\")"
   ]
  },
  {
   "cell_type": "code",
   "execution_count": 7,
   "metadata": {},
   "outputs": [],
   "source": [
    "g = np.zeros(len(df.Anio))\n",
    "df['Dia'] = df['Dia'].astype(str)\n",
    "\n",
    "for i in range(len(df.Anio)):\n",
    "    g[i] = str(df.Anio[i]) + str(df.Dia[i].zfill(3))\n",
    "    \n",
    "g = g.astype(np.int)"
   ]
  },
  {
   "cell_type": "code",
   "execution_count": 8,
   "metadata": {},
   "outputs": [],
   "source": [
    "df[\"fecha\"] = g"
   ]
  },
  {
   "cell_type": "code",
   "execution_count": 9,
   "metadata": {},
   "outputs": [
    {
     "data": {
      "text/html": [
       "<div>\n",
       "<style scoped>\n",
       "    .dataframe tbody tr th:only-of-type {\n",
       "        vertical-align: middle;\n",
       "    }\n",
       "\n",
       "    .dataframe tbody tr th {\n",
       "        vertical-align: top;\n",
       "    }\n",
       "\n",
       "    .dataframe thead th {\n",
       "        text-align: right;\n",
       "    }\n",
       "</style>\n",
       "<table border=\"1\" class=\"dataframe\">\n",
       "  <thead>\n",
       "    <tr style=\"text-align: right;\">\n",
       "      <th></th>\n",
       "      <th>Unnamed: 0</th>\n",
       "      <th>Latitud</th>\n",
       "      <th>Longitud</th>\n",
       "      <th>Maps</th>\n",
       "      <th>Html</th>\n",
       "      <th>Referencia</th>\n",
       "      <th>Departamento</th>\n",
       "      <th>Provincia</th>\n",
       "      <th>Dia</th>\n",
       "      <th>Anio</th>\n",
       "      <th>fecha</th>\n",
       "    </tr>\n",
       "  </thead>\n",
       "  <tbody>\n",
       "    <tr>\n",
       "      <th>0</th>\n",
       "      <td>NaN</td>\n",
       "      <td>-31,528142</td>\n",
       "      <td>-61,807861</td>\n",
       "      <td>campo</td>\n",
       "      <td>NaN</td>\n",
       "      <td>Estación Clucellas</td>\n",
       "      <td>Castellanos</td>\n",
       "      <td>Santa Fé</td>\n",
       "      <td>1</td>\n",
       "      <td>2017</td>\n",
       "      <td>2017001</td>\n",
       "    </tr>\n",
       "    <tr>\n",
       "      <th>1</th>\n",
       "      <td>NaN</td>\n",
       "      <td>-31,709009</td>\n",
       "      <td>-61,963226</td>\n",
       "      <td>dudoso</td>\n",
       "      <td>NaN</td>\n",
       "      <td>Sastre</td>\n",
       "      <td>San Martín</td>\n",
       "      <td>Santa Fé</td>\n",
       "      <td>1</td>\n",
       "      <td>2017</td>\n",
       "      <td>2017001</td>\n",
       "    </tr>\n",
       "    <tr>\n",
       "      <th>2</th>\n",
       "      <td>NaN</td>\n",
       "      <td>-31,224912</td>\n",
       "      <td>-61,794174</td>\n",
       "      <td>campo</td>\n",
       "      <td>NaN</td>\n",
       "      <td>NaN</td>\n",
       "      <td>NaN</td>\n",
       "      <td>NaN</td>\n",
       "      <td>1</td>\n",
       "      <td>2017</td>\n",
       "      <td>2017001</td>\n",
       "    </tr>\n",
       "    <tr>\n",
       "      <th>3</th>\n",
       "      <td>NaN</td>\n",
       "      <td>-31,003199</td>\n",
       "      <td>-61,886937</td>\n",
       "      <td>campo</td>\n",
       "      <td>NaN</td>\n",
       "      <td>NaN</td>\n",
       "      <td>NaN</td>\n",
       "      <td>NaN</td>\n",
       "      <td>1</td>\n",
       "      <td>2017</td>\n",
       "      <td>2017001</td>\n",
       "    </tr>\n",
       "    <tr>\n",
       "      <th>4</th>\n",
       "      <td>NaN</td>\n",
       "      <td>-34,638248</td>\n",
       "      <td>-63,020336</td>\n",
       "      <td>campo raro</td>\n",
       "      <td>NaN</td>\n",
       "      <td>NaN</td>\n",
       "      <td>NaN</td>\n",
       "      <td>NaN</td>\n",
       "      <td>1</td>\n",
       "      <td>2017</td>\n",
       "      <td>2017001</td>\n",
       "    </tr>\n",
       "  </tbody>\n",
       "</table>\n",
       "</div>"
      ],
      "text/plain": [
       "   Unnamed: 0     Latitud    Longitud        Maps Html          Referencia  \\\n",
       "0 NaN          -31,528142  -61,807861  campo       NaN  Estación Clucellas   \n",
       "1 NaN          -31,709009  -61,963226  dudoso      NaN  Sastre               \n",
       "2 NaN          -31,224912  -61,794174  campo       NaN  NaN                  \n",
       "3 NaN          -31,003199  -61,886937  campo       NaN  NaN                  \n",
       "4 NaN          -34,638248  -63,020336  campo raro  NaN  NaN                  \n",
       "\n",
       "  Departamento Provincia Dia  Anio    fecha  \n",
       "0  Castellanos  Santa Fé  1   2017  2017001  \n",
       "1  San Martín   Santa Fé  1   2017  2017001  \n",
       "2  NaN          NaN       1   2017  2017001  \n",
       "3  NaN          NaN       1   2017  2017001  \n",
       "4  NaN          NaN       1   2017  2017001  "
      ]
     },
     "execution_count": 9,
     "metadata": {},
     "output_type": "execute_result"
    }
   ],
   "source": [
    "df.head()"
   ]
  },
  {
   "cell_type": "code",
   "execution_count": 10,
   "metadata": {},
   "outputs": [],
   "source": [
    "df = df.replace(2019052 , 2019049)"
   ]
  },
  {
   "cell_type": "code",
   "execution_count": 11,
   "metadata": {},
   "outputs": [],
   "source": [
    "for r in range(len(df.fecha)):\n",
    "    df.Longitud[r] = df.Longitud[r].replace(\",\",\".\")\n",
    "    df.Latitud[r] = df.Latitud[r].replace(\",\",\".\")"
   ]
  },
  {
   "cell_type": "code",
   "execution_count": 12,
   "metadata": {},
   "outputs": [],
   "source": [
    "df[\"Longitud\"] = df.Longitud.astype(float)\n",
    "df[\"Latitud\"] = df.Latitud.astype(float)"
   ]
  },
  {
   "cell_type": "code",
   "execution_count": 13,
   "metadata": {},
   "outputs": [],
   "source": [
    "def pixelado (archivo_tif,longitud,latitud, k):\n",
    "    #xOrigin = transform[0], yOrigin = transform[3], pixelWidth = transform[1], pixelHeight = -transform[5] \n",
    "    transform = in_ds.GetGeoTransform()\n",
    "    in_band = archivo_tif.GetRasterBand(1)\n",
    "    in_data = in_band.ReadAsArray(0, 0, archivo_tif.RasterXSize, archivo_tif.RasterYSize)\n",
    "\n",
    "    col = int((longitud - transform[0]) / transform[1])\n",
    "    row = int((latitud - transform[3]) / transform[5])\n",
    "    \n",
    "    arreglo = []\n",
    "    for i in range(-k,k+1):\n",
    "        for j in range(-k,k+1):\n",
    "            arreglo.append(in_data[row+i][col+j])\n",
    "    arreglo = np.array(arreglo)\n",
    "    return arreglo"
   ]
  },
  {
   "cell_type": "code",
   "execution_count": 14,
   "metadata": {},
   "outputs": [],
   "source": [
    "lista_indices = []\n",
    "\n",
    "for i in range(len(df.fecha)):\n",
    "    in_ds = gdal.Open(\"/home/manuela/sancor/imagenes/mndwi/mndwi_\" + str(df.fecha[i]) + \"_500m.tif\")\n",
    "    p = pixelado(in_ds, df.Longitud[i], df.Latitud[i], 0)\n",
    "    lista_indices.append(p)"
   ]
  },
  {
   "cell_type": "code",
   "execution_count": 15,
   "metadata": {},
   "outputs": [],
   "source": [
    "df[\"mndwi\"] = lista_indices"
   ]
  },
  {
   "cell_type": "code",
   "execution_count": 16,
   "metadata": {},
   "outputs": [],
   "source": [
    "df[\"mndwi\"] = df.mndwi.astype(float)"
   ]
  },
  {
   "cell_type": "code",
   "execution_count": null,
   "metadata": {},
   "outputs": [],
   "source": []
  },
  {
   "cell_type": "code",
   "execution_count": 36,
   "metadata": {},
   "outputs": [
    {
     "data": {
      "text/plain": [
       "<Figure size 720x432 with 0 Axes>"
      ]
     },
     "execution_count": 36,
     "metadata": {},
     "output_type": "execute_result"
    },
    {
     "data": {
      "text/plain": [
       "<matplotlib.axes._subplots.AxesSubplot at 0x7f53a13efa00>"
      ]
     },
     "execution_count": 36,
     "metadata": {},
     "output_type": "execute_result"
    },
    {
     "data": {
      "image/png": "[encoded data removed]",
      "text/plain": [
       "<Figure size 720x432 with 1 Axes>"
      ]
     },
     "metadata": {
      "needs_background": "light"
     },
     "output_type": "display_data"
    }
   ],
   "source": [
    "plt.figure(figsize=(10,6))\n",
    "sns.distplot(df.mndwi, bins = 30)"
   ]
  },
  {
   "cell_type": "code",
   "execution_count": 19,
   "metadata": {},
   "outputs": [
    {
     "data": {
      "text/plain": [
       "array([2017001, 2017017, 2017033, 2017049, 2019033, 2019049, 2016337])"
      ]
     },
     "execution_count": 19,
     "metadata": {},
     "output_type": "execute_result"
    }
   ],
   "source": [
    "df.fecha.unique()"
   ]
  },
  {
   "cell_type": "code",
   "execution_count": 31,
   "metadata": {},
   "outputs": [
    {
     "data": {
      "text/html": [
       "<div>\n",
       "<style scoped>\n",
       "    .dataframe tbody tr th:only-of-type {\n",
       "        vertical-align: middle;\n",
       "    }\n",
       "\n",
       "    .dataframe tbody tr th {\n",
       "        vertical-align: top;\n",
       "    }\n",
       "\n",
       "    .dataframe thead th {\n",
       "        text-align: right;\n",
       "    }\n",
       "</style>\n",
       "<table border=\"1\" class=\"dataframe\">\n",
       "  <thead>\n",
       "    <tr style=\"text-align: right;\">\n",
       "      <th></th>\n",
       "      <th>Unnamed: 0</th>\n",
       "      <th>Latitud</th>\n",
       "      <th>Longitud</th>\n",
       "      <th>Maps</th>\n",
       "      <th>Html</th>\n",
       "      <th>Referencia</th>\n",
       "      <th>Departamento</th>\n",
       "      <th>Provincia</th>\n",
       "      <th>Dia</th>\n",
       "      <th>Anio</th>\n",
       "      <th>fecha</th>\n",
       "      <th>mndwi</th>\n",
       "    </tr>\n",
       "  </thead>\n",
       "  <tbody>\n",
       "    <tr>\n",
       "      <th>35</th>\n",
       "      <td>NaN</td>\n",
       "      <td>-34.765429</td>\n",
       "      <td>-63.809005</td>\n",
       "      <td>semirecurrente</td>\n",
       "      <td>cerca de inundaciones</td>\n",
       "      <td>Italo</td>\n",
       "      <td>Gral Roca</td>\n",
       "      <td>Córdoba</td>\n",
       "      <td>33</td>\n",
       "      <td>2019</td>\n",
       "      <td>2019033</td>\n",
       "      <td>-0.646154</td>\n",
       "    </tr>\n",
       "  </tbody>\n",
       "</table>\n",
       "</div>"
      ],
      "text/plain": [
       "    Unnamed: 0    Latitud   Longitud            Maps                   Html  \\\n",
       "35 NaN         -34.765429 -63.809005  semirecurrente  cerca de inundaciones   \n",
       "\n",
       "   Referencia Departamento Provincia Dia  Anio    fecha     mndwi  \n",
       "35  Italo      Gral Roca    Córdoba   33  2019  2019033 -0.646154  "
      ]
     },
     "execution_count": 31,
     "metadata": {},
     "output_type": "execute_result"
    }
   ],
   "source": [
    "df[df.mndwi < -0.6]"
   ]
  },
  {
   "cell_type": "code",
   "execution_count": 33,
   "metadata": {},
   "outputs": [],
   "source": [
    "df_nuevo = df.drop(35,axis=0)"
   ]
  },
  {
   "cell_type": "code",
   "execution_count": 35,
   "metadata": {},
   "outputs": [
    {
     "data": {
      "text/plain": [
       "<Figure size 720x432 with 0 Axes>"
      ]
     },
     "execution_count": 35,
     "metadata": {},
     "output_type": "execute_result"
    },
    {
     "data": {
      "text/plain": [
       "<matplotlib.axes._subplots.AxesSubplot at 0x7f53a14f5a30>"
      ]
     },
     "execution_count": 35,
     "metadata": {},
     "output_type": "execute_result"
    },
    {
     "data": {
      "image/png": "[encoded data removed]",
      "text/plain": [
       "<Figure size 720x432 with 1 Axes>"
      ]
     },
     "metadata": {
      "needs_background": "light"
     },
     "output_type": "display_data"
    }
   ],
   "source": [
    "plt.figure(figsize=(10,6))\n",
    "sns.distplot(df_nuevo.mndwi, bins = 30)"
   ]
  },
  {
   "cell_type": "markdown",
   "metadata": {},
   "source": [
    "# HISTOGRAMA DIEGO"
   ]
  },
  {
   "cell_type": "code",
   "execution_count": 93,
   "metadata": {},
   "outputs": [],
   "source": [
    "df_diego = pd.read_csv(\"/home/manuela/sancor/CSV/diego_nuevo.csv\")"
   ]
  },
  {
   "cell_type": "code",
   "execution_count": 94,
   "metadata": {},
   "outputs": [
    {
     "data": {
      "text/plain": [
       "49248"
      ]
     },
     "execution_count": 94,
     "metadata": {},
     "output_type": "execute_result"
    }
   ],
   "source": [
    "len(df_diego.id)"
   ]
  },
  {
   "cell_type": "code",
   "execution_count": 95,
   "metadata": {},
   "outputs": [],
   "source": [
    "lista_indices_diego = []\n",
    "in_ds = gdal.Open(\"/home/manuela/sancor/imagenes/ndwi/ndwi_2016073_500m.tif\")\n",
    "\n",
    "for i in range(len(df_diego.id)):\n",
    "    p = pixelado(in_ds, df_diego.Longitud[i], df_diego.Latitud[i], 0)\n",
    "    lista_indices_diego.append(p)"
   ]
  },
  {
   "cell_type": "code",
   "execution_count": 96,
   "metadata": {},
   "outputs": [],
   "source": [
    "df_diego[\"ndwi_modis\"] = lista_indices_diego"
   ]
  },
  {
   "cell_type": "code",
   "execution_count": 97,
   "metadata": {},
   "outputs": [],
   "source": [
    "df_diego[\"ndwi_modis\"] = df_diego.ndwi_modis.astype(float)"
   ]
  },
  {
   "cell_type": "code",
   "execution_count": 98,
   "metadata": {},
   "outputs": [],
   "source": [
    "#df_diego[\"ndwi_sentinel\"] = df_diego.ndwi_sentinel/1000"
   ]
  },
  {
   "cell_type": "code",
   "execution_count": 99,
   "metadata": {},
   "outputs": [
    {
     "data": {
      "text/plain": [
       "<Figure size 720x432 with 0 Axes>"
      ]
     },
     "execution_count": 99,
     "metadata": {},
     "output_type": "execute_result"
    },
    {
     "data": {
      "text/plain": [
       "<matplotlib.axes._subplots.AxesSubplot at 0x7f53a09a4f10>"
      ]
     },
     "execution_count": 99,
     "metadata": {},
     "output_type": "execute_result"
    },
    {
     "data": {
      "image/png": "[encoded data removed]",
      "text/plain": [
       "<Figure size 720x432 with 1 Axes>"
      ]
     },
     "metadata": {
      "needs_background": "light"
     },
     "output_type": "display_data"
    }
   ],
   "source": [
    "plt.figure(figsize=(10,6))\n",
    "sns.distplot(df_diego.ndwi_modis, bins = 20)"
   ]
  },
  {
   "cell_type": "code",
   "execution_count": 100,
   "metadata": {},
   "outputs": [],
   "source": [
    "pd.DataFrame(df_diego).to_csv(\"/home/manuela/sancor/CSV/diego_nuevo.csv\")"
   ]
  },
  {
   "cell_type": "code",
   "execution_count": 101,
   "metadata": {},
   "outputs": [
    {
     "data": {
      "text/plain": [
       "<Figure size 720x432 with 0 Axes>"
      ]
     },
     "execution_count": 101,
     "metadata": {},
     "output_type": "execute_result"
    },
    {
     "data": {
      "text/plain": [
       "<matplotlib.axes._subplots.AxesSubplot at 0x7f53a093e7c0>"
      ]
     },
     "execution_count": 101,
     "metadata": {},
     "output_type": "execute_result"
    },
    {
     "data": {
      "image/png": "[encoded data removed]",
      "text/plain": [
       "<Figure size 720x432 with 1 Axes>"
      ]
     },
     "metadata": {
      "needs_background": "light"
     },
     "output_type": "display_data"
    }
   ],
   "source": [
    "plt.figure(figsize=(10,6))\n",
    "sns.distplot(df_diego.mndwi_modis, bins = 20)"
   ]
  },
  {
   "cell_type": "code",
   "execution_count": 102,
   "metadata": {},
   "outputs": [
    {
     "data": {
      "text/plain": [
       "<Figure size 720x432 with 0 Axes>"
      ]
     },
     "execution_count": 102,
     "metadata": {},
     "output_type": "execute_result"
    },
    {
     "data": {
      "text/plain": [
       "<matplotlib.axes._subplots.AxesSubplot at 0x7f53a08addc0>"
      ]
     },
     "execution_count": 102,
     "metadata": {},
     "output_type": "execute_result"
    },
    {
     "data": {
      "image/png": "[encoded data removed]",
      "text/plain": [
       "<Figure size 720x432 with 1 Axes>"
      ]
     },
     "metadata": {
      "needs_background": "light"
     },
     "output_type": "display_data"
    }
   ],
   "source": [
    "plt.figure(figsize=(10,6))\n",
    "sns.distplot(df_diego.ndwi_sentinel, bins = 20)"
   ]
  },
  {
   "cell_type": "code",
   "execution_count": null,
   "metadata": {},
   "outputs": [],
   "source": []
  }
 ],
 "metadata": {
  "kernelspec": {
   "display_name": "Python 3",
   "language": "python",
   "name": "python3"
  },
  "language_info": {
   "codemirror_mode": {
    "name": "ipython",
    "version": 3
   },
   "file_extension": ".py",
   "mimetype": "text/x-python",
   "name": "python",
   "nbconvert_exporter": "python",
   "pygments_lexer": "ipython3",
   "version": "3.8.5"
  }
 },
 "nbformat": 4,
 "nbformat_minor": 4
}
